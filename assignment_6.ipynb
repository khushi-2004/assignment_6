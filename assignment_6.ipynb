{
 "cells": [
  {
   "cell_type": "code",
   "execution_count": null,
   "id": "a1a9b70d-0f8f-416e-9dfe-0fd9dfb80fa4",
   "metadata": {},
   "outputs": [],
   "source": [
    "Q1. Explain Class and Object with respect to Object-Oriented Programming. Give a suitable example."
   ]
  },
  {
   "cell_type": "code",
   "execution_count": null,
   "id": "69b00efa-3890-4ab8-9e51-a15fb153e67b",
   "metadata": {},
   "outputs": [],
   "source": [
    "class-->\n",
    "it is a classification and characterization \n",
    "classification of a blue print of real world entity \n",
    "\n",
    "object-->\n",
    "instance of class"
   ]
  },
  {
   "cell_type": "code",
   "execution_count": 1,
   "id": "aafe7ce9-b63c-42a1-8794-8f94934e0dcb",
   "metadata": {},
   "outputs": [],
   "source": [
    "class student:\n",
    "    \n",
    "    def student_detail(self , name,email_id,phn_number):\n",
    "        self.name=name\n",
    "        self.email_id=email_id\n",
    "        self.phn_number=phn_number\n",
    "        \n",
    "    def result(self):\n",
    "        return self.name,self.email_id,self.phn_number"
   ]
  },
  {
   "cell_type": "code",
   "execution_count": 2,
   "id": "d6cc40e0-5bac-46ba-9e43-702327fe52f9",
   "metadata": {},
   "outputs": [],
   "source": [
    "std=student()"
   ]
  },
  {
   "cell_type": "code",
   "execution_count": 3,
   "id": "14ad7492-730b-42f2-9721-359113df4212",
   "metadata": {},
   "outputs": [],
   "source": [
    "std.student_detail(\"khushi\",\"kuku@gmail.com\",876956085)"
   ]
  },
  {
   "cell_type": "code",
   "execution_count": 5,
   "id": "902e9805-6902-4a8d-be4c-77296f54b01a",
   "metadata": {},
   "outputs": [
    {
     "data": {
      "text/plain": [
       "('khushi', 'kuku@gmail.com', 876956085)"
      ]
     },
     "execution_count": 5,
     "metadata": {},
     "output_type": "execute_result"
    }
   ],
   "source": [
    "std.result()"
   ]
  },
  {
   "cell_type": "code",
   "execution_count": null,
   "id": "c2cec21b-f31f-4466-be94-399bff3b66f9",
   "metadata": {},
   "outputs": [],
   "source": [
    "Q2. Name the four pillars of OOPs."
   ]
  },
  {
   "cell_type": "code",
   "execution_count": null,
   "id": "f78149e3-4eca-45aa-9c35-cd4975c47fd6",
   "metadata": {},
   "outputs": [],
   "source": [
    "Name the four pillars of OOPs-->\n",
    "   1. polimorphism\n",
    "   2. inheritance\n",
    "   3. abstraction\n",
    "   4. enpaculation"
   ]
  },
  {
   "cell_type": "code",
   "execution_count": null,
   "id": "8bd29894-1c6e-4997-9138-639f35215c9b",
   "metadata": {},
   "outputs": [],
   "source": [
    "Q3. Explain why the __init__() function is used. Give a suitable example."
   ]
  },
  {
   "cell_type": "code",
   "execution_count": null,
   "id": "945ee431-a9ee-4daf-babe-d365af35be00",
   "metadata": {},
   "outputs": [],
   "source": [
    "lets the class initialize the object attributes and serves no other purpose.\n"
   ]
  },
  {
   "cell_type": "code",
   "execution_count": 2,
   "id": "8912523f-4710-4385-b233-a93dbb6f97e0",
   "metadata": {},
   "outputs": [],
   "source": [
    "class bank:\n",
    "    \n",
    "    def __init__(self,name,email_id,number):\n",
    "        self.name=name\n",
    "        self.email_id=email_id\n",
    "        self.number=number\n",
    "        \n",
    "    def manager_detail(self):\n",
    "        return self.name,self.email_id,self.number"
   ]
  },
  {
   "cell_type": "code",
   "execution_count": 5,
   "id": "e261884e-bc9f-4fcf-99ef-22e3cb1ef9b8",
   "metadata": {},
   "outputs": [],
   "source": [
    "m1=bank(\"kuku\",\"kuku@gmail.com\",879878687)"
   ]
  },
  {
   "cell_type": "code",
   "execution_count": 7,
   "id": "8bb9187f-0f55-4843-81b7-e7bfb17811ab",
   "metadata": {},
   "outputs": [
    {
     "data": {
      "text/plain": [
       "('kuku', 'kuku@gmail.com', 879878687)"
      ]
     },
     "execution_count": 7,
     "metadata": {},
     "output_type": "execute_result"
    }
   ],
   "source": [
    "m1.manager_detail()"
   ]
  },
  {
   "cell_type": "code",
   "execution_count": null,
   "id": "1bf49f13-e4be-4723-a912-407fa9e966ff",
   "metadata": {},
   "outputs": [],
   "source": [
    "Q4. Why self is used in OOPs?"
   ]
  },
  {
   "cell_type": "code",
   "execution_count": null,
   "id": "f06b526b-5cbc-4912-9aba-7deef9a07f92",
   "metadata": {},
   "outputs": [],
   "source": [
    "self-->\n",
    "    self is used to represent the instance of class.\n",
    "    it work as reference ot the object.\n",
    "    uses the self parameter to refer to instance attributes and method of the class."
   ]
  },
  {
   "cell_type": "code",
   "execution_count": null,
   "id": "c8d2a01a-f979-4171-bf56-703bf5e29e65",
   "metadata": {},
   "outputs": [],
   "source": [
    "Q5. What is inheritance? Give an example for each type of inheritance."
   ]
  },
  {
   "cell_type": "code",
   "execution_count": null,
   "id": "749bb2a3-d9ec-4d8f-a6ef-a7740f8fafa2",
   "metadata": {},
   "outputs": [],
   "source": [
    "inheritance-->\n",
    "    it is use to inherite the class in other class.\n",
    "    with the help of inheritance reuseablity increse.\n",
    "     \n",
    "    type of inheritance:\n",
    "        1.single level inheritance\n",
    "        2.multiple inheritance\n",
    "        3.multilevel inheritance\n",
    "        "
   ]
  },
  {
   "cell_type": "code",
   "execution_count": 25,
   "id": "f3529448-d665-4eb9-9bcf-a2f07f3df5b5",
   "metadata": {},
   "outputs": [],
   "source": [
    "# 1.single level inheritance\n",
    "\n",
    "class pwskills:\n",
    "    \n",
    "    def student_details(self,name,email_id):\n",
    "        self.name=name\n",
    "        self.email_id=email_id\n",
    "        "
   ]
  },
  {
   "cell_type": "code",
   "execution_count": 26,
   "id": "2540b292-97bb-44a3-ba77-65db932ff220",
   "metadata": {},
   "outputs": [],
   "source": [
    "class course(pwskills):\n",
    "    \n",
    "    def enrolled_course(self,course):\n",
    "        self.course=course\n",
    "        \n",
    "    def result_student(self):\n",
    "        return self.name,self.email_id,self.course"
   ]
  },
  {
   "cell_type": "code",
   "execution_count": 27,
   "id": "e07a29d3-8d0f-4184-b999-555dae6d92ee",
   "metadata": {},
   "outputs": [],
   "source": [
    "std1=course()"
   ]
  },
  {
   "cell_type": "code",
   "execution_count": 28,
   "id": "aa9fb008-36ea-4eb2-a3e0-a217f7d250fe",
   "metadata": {},
   "outputs": [],
   "source": [
    "std1.student_details(\"kuku\",\"kuku@gamil.com\")"
   ]
  },
  {
   "cell_type": "code",
   "execution_count": 29,
   "id": "b79c6ad9-5139-4dcb-b476-c415f1c75107",
   "metadata": {},
   "outputs": [],
   "source": [
    "std1.enrolled_course(\"data science\")"
   ]
  },
  {
   "cell_type": "code",
   "execution_count": 30,
   "id": "e482bf0f-cd26-4038-9544-fdd0f30cb241",
   "metadata": {},
   "outputs": [
    {
     "data": {
      "text/plain": [
       "('kuku', 'kuku@gamil.com', 'data science')"
      ]
     },
     "execution_count": 30,
     "metadata": {},
     "output_type": "execute_result"
    }
   ],
   "source": [
    "std1.result_student()"
   ]
  },
  {
   "cell_type": "code",
   "execution_count": 31,
   "id": "667a9459-b4e3-42f4-8c5a-f5c9e13fd415",
   "metadata": {},
   "outputs": [],
   "source": [
    "# 2. multiple inheritance\n",
    "\n",
    "class student_mark:\n",
    "    def set_mark(self,math_mark,DSA_mark,python_mark):\n",
    "        self.math_mark=math_mark\n",
    "        self.DSA_mark=DSA_mark\n",
    "        self.python_mark=python_mark\n",
    "        \n",
    "    def total_mark(self):\n",
    "        return (self.math_mark+self.DSA_mark+self.python_mark)\n",
    "    "
   ]
  },
  {
   "cell_type": "code",
   "execution_count": 32,
   "id": "53086d67-0f19-4a84-b935-63e4a71d6a0f",
   "metadata": {},
   "outputs": [],
   "source": [
    "class sports:\n",
    "    def set_sports(self,sport):\n",
    "        self.sport=sport\n",
    "    \n",
    "    def sport_mark(self):\n",
    "        return self.sport"
   ]
  },
  {
   "cell_type": "code",
   "execution_count": 33,
   "id": "8ebdbe80-1548-4d28-8e15-928611bacf12",
   "metadata": {},
   "outputs": [],
   "source": [
    "class result(student_mark,sports):\n",
    "    def persentage(self):\n",
    "        return ((self.math_mark+self.DSA_mark+self.python_mark+self.sport)/400)*100"
   ]
  },
  {
   "cell_type": "code",
   "execution_count": 34,
   "id": "554b257a-2184-43d5-9135-3edac12b291d",
   "metadata": {},
   "outputs": [],
   "source": [
    "std=result()"
   ]
  },
  {
   "cell_type": "code",
   "execution_count": 35,
   "id": "c51e7be8-d56e-491e-a6f6-d2cf97e9f838",
   "metadata": {},
   "outputs": [],
   "source": [
    "std.set_mark(78,56,89)"
   ]
  },
  {
   "cell_type": "code",
   "execution_count": 36,
   "id": "3f9f3e48-7c7a-431e-8b13-f708246bb03b",
   "metadata": {},
   "outputs": [],
   "source": [
    "std.set_sports(78)"
   ]
  },
  {
   "cell_type": "code",
   "execution_count": 37,
   "id": "24298108-93eb-4d2a-a610-0d81b7d06d57",
   "metadata": {},
   "outputs": [
    {
     "data": {
      "text/plain": [
       "75.25"
      ]
     },
     "execution_count": 37,
     "metadata": {},
     "output_type": "execute_result"
    }
   ],
   "source": [
    "std.persentage()"
   ]
  },
  {
   "cell_type": "code",
   "execution_count": 38,
   "id": "5bb22cfa-4946-4666-acf3-32ab209f28f9",
   "metadata": {},
   "outputs": [],
   "source": [
    "# 3. multilevel inheritance\n",
    "\n",
    "\n",
    "class class1:\n",
    "    def test_class1(self):\n",
    "        return \" this is mathon from class1\"\n"
   ]
  },
  {
   "cell_type": "code",
   "execution_count": 39,
   "id": "b6a93b10-d9fa-4c31-8ec5-771d43adab8a",
   "metadata": {},
   "outputs": [],
   "source": [
    "class class2(class1):\n",
    "    def test_class2(self):\n",
    "        return \" this is mathon from class2\"\n"
   ]
  },
  {
   "cell_type": "code",
   "execution_count": 40,
   "id": "4ab79bd8-863c-4064-8eab-d5bb4907d602",
   "metadata": {},
   "outputs": [],
   "source": [
    "class class3(class2):\n",
    "    def test_class3(self):\n",
    "        return \" this is mathon from class3\"\n"
   ]
  },
  {
   "cell_type": "code",
   "execution_count": 41,
   "id": "c28846e6-81ad-492b-8ae0-1f80595dc753",
   "metadata": {},
   "outputs": [],
   "source": [
    "c1=class3()"
   ]
  },
  {
   "cell_type": "code",
   "execution_count": 42,
   "id": "d99a7d54-fcf5-4c42-8ac4-b99689621e35",
   "metadata": {},
   "outputs": [
    {
     "data": {
      "text/plain": [
       "' this is mathon from class1'"
      ]
     },
     "execution_count": 42,
     "metadata": {},
     "output_type": "execute_result"
    }
   ],
   "source": [
    "c1.test_class1()"
   ]
  },
  {
   "cell_type": "code",
   "execution_count": null,
   "id": "9722e5da-8bbd-48fa-9456-60c557f0c031",
   "metadata": {},
   "outputs": [],
   "source": []
  }
 ],
 "metadata": {
  "kernelspec": {
   "display_name": "Python 3 (ipykernel)",
   "language": "python",
   "name": "python3"
  },
  "language_info": {
   "codemirror_mode": {
    "name": "ipython",
    "version": 3
   },
   "file_extension": ".py",
   "mimetype": "text/x-python",
   "name": "python",
   "nbconvert_exporter": "python",
   "pygments_lexer": "ipython3",
   "version": "3.10.8"
  }
 },
 "nbformat": 4,
 "nbformat_minor": 5
}
